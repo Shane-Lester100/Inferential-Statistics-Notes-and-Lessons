{
 "cells": [
  {
   "cell_type": "markdown",
   "metadata": {},
   "source": [
    "# Confidence Intervals\n",
    "\n",
    "- When we try to estimate a population parameter based on a sample statistic it is like fishing with a fishing pole\n",
    "\n",
    "    - this is good, but I will be more likely if I use a net\n",
    "    \n",
    "    - the larger the net the more confident I will be that I capture a fish\n",
    "    \n",
    "    - the net is like building a confidence interval for our estimates\n",
    "    \n",
    "- Analogy breaks down; because parameter is non moving number and fish move\n",
    "    \n",
    "- Captures Essence:\n",
    "\n",
    "    - providing an interval and not just  a single estimate will help us gain confidence in capturing a population parameter is at the core of confidence intervals\n",
    "    \n",
    "    - the wider our interval the more confident we can be we captured our parameter\n",
    "    \n",
    "- Recall:\n",
    "\n",
    "    - we previously saw we can use sampling distributions and bootstrapping to understand values of a statistic that are possible\n",
    "   \n",
    "    - we can use sampling distributions to infer values of a parameter as well\n",
    "    \n",
    "    - real populations are something like:\n",
    "    \n",
    "        - all the people in past, now, and future \n",
    "        \n",
    "        - all the past, present, and future transactions of a company\n",
    "        \n",
    "    - we never have all the information\n",
    "   \n",
    "   \n",
    "- Question:\n",
    "\n",
    "    - how do we use sampling distributions to infer where a parameter is located given that these popultions can't be measured directly\n",
    "    \n",
    "- Say we have a sampling distribution for some statistics\n",
    "\n",
    "    - we can use this sampling distribution to build a confidence interval for our \n",
    "    \n",
    "    - If we want a 95% confidence interval, we cut off the range of 2.5% from each side and say that the estimate can be anywhere in that range with 95% confidence"
   ]
  },
  {
   "cell_type": "markdown",
   "metadata": {},
   "source": [
    "Dataset: how heights and coffee drinking habits relate to each other"
   ]
  },
  {
   "cell_type": "code",
   "execution_count": 124,
   "metadata": {},
   "outputs": [],
   "source": [
    "import numpy as np\n",
    "import pandas as pd\n",
    "import matplotlib.pyplot as plt"
   ]
  },
  {
   "cell_type": "code",
   "execution_count": 125,
   "metadata": {},
   "outputs": [],
   "source": [
    "np.random.seed(42)"
   ]
  },
  {
   "cell_type": "code",
   "execution_count": 126,
   "metadata": {},
   "outputs": [],
   "source": [
    "coffee_full = pd.read_csv(\"data/coffee_dataset.csv\")"
   ]
  },
  {
   "cell_type": "code",
   "execution_count": 127,
   "metadata": {},
   "outputs": [
    {
     "data": {
      "text/html": [
       "<div>\n",
       "<style scoped>\n",
       "    .dataframe tbody tr th:only-of-type {\n",
       "        vertical-align: middle;\n",
       "    }\n",
       "\n",
       "    .dataframe tbody tr th {\n",
       "        vertical-align: top;\n",
       "    }\n",
       "\n",
       "    .dataframe thead th {\n",
       "        text-align: right;\n",
       "    }\n",
       "</style>\n",
       "<table border=\"1\" class=\"dataframe\">\n",
       "  <thead>\n",
       "    <tr style=\"text-align: right;\">\n",
       "      <th></th>\n",
       "      <th>user_id</th>\n",
       "      <th>age</th>\n",
       "      <th>drinks_coffee</th>\n",
       "      <th>height</th>\n",
       "    </tr>\n",
       "  </thead>\n",
       "  <tbody>\n",
       "    <tr>\n",
       "      <th>0</th>\n",
       "      <td>4509</td>\n",
       "      <td>&lt;21</td>\n",
       "      <td>False</td>\n",
       "      <td>64.538179</td>\n",
       "    </tr>\n",
       "    <tr>\n",
       "      <th>1</th>\n",
       "      <td>1864</td>\n",
       "      <td>&gt;=21</td>\n",
       "      <td>True</td>\n",
       "      <td>65.824249</td>\n",
       "    </tr>\n",
       "    <tr>\n",
       "      <th>2</th>\n",
       "      <td>2060</td>\n",
       "      <td>&lt;21</td>\n",
       "      <td>False</td>\n",
       "      <td>71.319854</td>\n",
       "    </tr>\n",
       "    <tr>\n",
       "      <th>3</th>\n",
       "      <td>7875</td>\n",
       "      <td>&gt;=21</td>\n",
       "      <td>True</td>\n",
       "      <td>68.569404</td>\n",
       "    </tr>\n",
       "    <tr>\n",
       "      <th>4</th>\n",
       "      <td>6254</td>\n",
       "      <td>&lt;21</td>\n",
       "      <td>True</td>\n",
       "      <td>64.020226</td>\n",
       "    </tr>\n",
       "  </tbody>\n",
       "</table>\n",
       "</div>"
      ],
      "text/plain": [
       "   user_id   age  drinks_coffee     height\n",
       "0     4509   <21          False  64.538179\n",
       "1     1864  >=21           True  65.824249\n",
       "2     2060   <21          False  71.319854\n",
       "3     7875  >=21           True  68.569404\n",
       "4     6254   <21           True  64.020226"
      ]
     },
     "execution_count": 127,
     "metadata": {},
     "output_type": "execute_result"
    }
   ],
   "source": [
    "coffee_full.head()"
   ]
  },
  {
   "cell_type": "code",
   "execution_count": 128,
   "metadata": {},
   "outputs": [],
   "source": [
    "# We are pretending this is all the data we have\n",
    "coffee_red = coffee_full.sample(200)"
   ]
  },
  {
   "cell_type": "code",
   "execution_count": 129,
   "metadata": {},
   "outputs": [
    {
     "data": {
      "text/html": [
       "<div>\n",
       "<style scoped>\n",
       "    .dataframe tbody tr th:only-of-type {\n",
       "        vertical-align: middle;\n",
       "    }\n",
       "\n",
       "    .dataframe tbody tr th {\n",
       "        vertical-align: top;\n",
       "    }\n",
       "\n",
       "    .dataframe thead th {\n",
       "        text-align: right;\n",
       "    }\n",
       "</style>\n",
       "<table border=\"1\" class=\"dataframe\">\n",
       "  <thead>\n",
       "    <tr style=\"text-align: right;\">\n",
       "      <th></th>\n",
       "      <th>user_id</th>\n",
       "      <th>age</th>\n",
       "      <th>drinks_coffee</th>\n",
       "      <th>height</th>\n",
       "    </tr>\n",
       "  </thead>\n",
       "  <tbody>\n",
       "    <tr>\n",
       "      <th>2402</th>\n",
       "      <td>2874</td>\n",
       "      <td>&lt;21</td>\n",
       "      <td>True</td>\n",
       "      <td>64.357154</td>\n",
       "    </tr>\n",
       "    <tr>\n",
       "      <th>2864</th>\n",
       "      <td>3670</td>\n",
       "      <td>&gt;=21</td>\n",
       "      <td>True</td>\n",
       "      <td>66.859636</td>\n",
       "    </tr>\n",
       "    <tr>\n",
       "      <th>2167</th>\n",
       "      <td>7441</td>\n",
       "      <td>&lt;21</td>\n",
       "      <td>False</td>\n",
       "      <td>66.659561</td>\n",
       "    </tr>\n",
       "    <tr>\n",
       "      <th>507</th>\n",
       "      <td>2781</td>\n",
       "      <td>&gt;=21</td>\n",
       "      <td>True</td>\n",
       "      <td>70.166241</td>\n",
       "    </tr>\n",
       "    <tr>\n",
       "      <th>1817</th>\n",
       "      <td>2875</td>\n",
       "      <td>&gt;=21</td>\n",
       "      <td>True</td>\n",
       "      <td>71.369120</td>\n",
       "    </tr>\n",
       "  </tbody>\n",
       "</table>\n",
       "</div>"
      ],
      "text/plain": [
       "      user_id   age  drinks_coffee     height\n",
       "2402     2874   <21           True  64.357154\n",
       "2864     3670  >=21           True  66.859636\n",
       "2167     7441   <21          False  66.659561\n",
       "507      2781  >=21           True  70.166241\n",
       "1817     2875  >=21           True  71.369120"
      ]
     },
     "execution_count": 129,
     "metadata": {},
     "output_type": "execute_result"
    }
   ],
   "source": [
    "coffee_red.head()"
   ]
  },
  {
   "cell_type": "markdown",
   "metadata": {},
   "source": [
    "1. What is the proportion of coffee drinkers in the sample $ p$? What is the proportion of individuals that don't drink coffee $ (1-p)$?"
   ]
  },
  {
   "cell_type": "code",
   "execution_count": 130,
   "metadata": {},
   "outputs": [],
   "source": [
    "p = coffee_red[coffee_red[\"drinks_coffee\"] == True].shape[0] \\\n",
    "                    / coffee_red.shape[0]"
   ]
  },
  {
   "cell_type": "code",
   "execution_count": 131,
   "metadata": {},
   "outputs": [
    {
     "data": {
      "text/plain": [
       "(0.595, 0.405)"
      ]
     },
     "execution_count": 131,
     "metadata": {},
     "output_type": "execute_result"
    }
   ],
   "source": [
    "p, (1-p)"
   ]
  },
  {
   "cell_type": "markdown",
   "metadata": {},
   "source": [
    "2. Of the individuals who drink coffee, what is the average height? Of the individuals who do not drink coffee, what is the average height?"
   ]
  },
  {
   "cell_type": "code",
   "execution_count": 132,
   "metadata": {},
   "outputs": [
    {
     "data": {
      "text/plain": [
       "68.11962990858616"
      ]
     },
     "execution_count": 132,
     "metadata": {},
     "output_type": "execute_result"
    }
   ],
   "source": [
    "coffee_red[coffee_red[\"drinks_coffee\"] == True].height.mean()"
   ]
  },
  {
   "cell_type": "code",
   "execution_count": 133,
   "metadata": {},
   "outputs": [
    {
     "data": {
      "text/plain": [
       "66.78492279927877"
      ]
     },
     "execution_count": 133,
     "metadata": {},
     "output_type": "execute_result"
    }
   ],
   "source": [
    "coffee_red[coffee_red[\"drinks_coffee\"] == False].height.mean()"
   ]
  },
  {
   "cell_type": "markdown",
   "metadata": {},
   "source": [
    "3. Simulate 200 \"new\" individuals from your original sample of 200. What are the proportion of coffee drinkers in your bootstrap sample? How about individuals that don't drink coffee?"
   ]
  },
  {
   "cell_type": "code",
   "execution_count": 134,
   "metadata": {},
   "outputs": [],
   "source": [
    "bootsample = coffee_red.sample(200, replace=True)\n",
    "boot_p = bootsample[bootsample[\"drinks_coffee\"] == True].shape[0] / 200"
   ]
  },
  {
   "cell_type": "code",
   "execution_count": 135,
   "metadata": {},
   "outputs": [
    {
     "data": {
      "text/plain": [
       "(0.605, 0.395)"
      ]
     },
     "execution_count": 135,
     "metadata": {},
     "output_type": "execute_result"
    }
   ],
   "source": [
    "boot_p, (1-boot_p)"
   ]
  },
  {
   "cell_type": "markdown",
   "metadata": {},
   "source": [
    "Notice that our bootstrap sample doesn't get us the exact math to our porportions before, this is because we are sampling with replacement from our 200 sample, so we probably have same members more then once"
   ]
  },
  {
   "cell_type": "code",
   "execution_count": 136,
   "metadata": {},
   "outputs": [
    {
     "data": {
      "text/plain": [
       "127"
      ]
     },
     "execution_count": 136,
     "metadata": {},
     "output_type": "execute_result"
    }
   ],
   "source": [
    "# As we can see, we have only 123 uniquee values\n",
    "bootsample.user_id.unique().shape[0]"
   ]
  },
  {
   "cell_type": "markdown",
   "metadata": {},
   "source": [
    "4. Now simulate your bootstrap sample 10,000 times and take the mean height of the non-coffee drinkers in each sample. Each bootstrap sample should be from the very first sample of 200 data points. Plot the distribution, and pull the values necessary for a 95% confidence interval. What do you notice about the sampling distribution of the mean in this example?"
   ]
  },
  {
   "cell_type": "code",
   "execution_count": 137,
   "metadata": {},
   "outputs": [],
   "source": [
    "boot_means = []\n",
    "for _ in range(10000):\n",
    "    bootsample = coffee_red.sample(200, replace=True)\n",
    "    boot_means.append( bootsample[bootsample[\"drinks_coffee\"] == False]\n",
    "                       .height.mean()\n",
    "                     )"
   ]
  },
  {
   "cell_type": "code",
   "execution_count": 138,
   "metadata": {},
   "outputs": [
    {
     "data": {
      "image/png": "[encoded data removed]",
      "text/plain": [
       "<Figure size 432x288 with 1 Axes>"
      ]
     },
     "metadata": {
      "needs_background": "light"
     },
     "output_type": "display_data"
    }
   ],
   "source": [
    "plt.hist(boot_means);"
   ]
  },
  {
   "cell_type": "code",
   "execution_count": 139,
   "metadata": {},
   "outputs": [
    {
     "data": {
      "text/plain": [
       "(65.9929132815752, 67.58402738281572)"
      ]
     },
     "execution_count": 139,
     "metadata": {},
     "output_type": "execute_result"
    }
   ],
   "source": [
    "np.percentile(boot_means, 2.5), np.percentile(boot_means, 97.5)"
   ]
  },
  {
   "cell_type": "markdown",
   "metadata": {},
   "source": [
    "Confidence Interval: We are 95% confident in mean heights of all coffee drinkers too be between 67.06 and 68.57 inches tall"
   ]
  },
  {
   "cell_type": "code",
   "execution_count": 140,
   "metadata": {},
   "outputs": [
    {
     "data": {
      "text/plain": [
       "66.443407762147"
      ]
     },
     "execution_count": 140,
     "metadata": {},
     "output_type": "execute_result"
    }
   ],
   "source": [
    "coffee_full[coffee_full[\"drinks_coffee\"] == False][\"height\"].mean()"
   ]
  },
  {
   "cell_type": "markdown",
   "metadata": {},
   "source": [
    "Notice that we were correct in our confidence interval, but note that we aren't always successful\n",
    "\n",
    "Also notice that our mean for our sample was pretty close to the mean of our population parameter"
   ]
  },
  {
   "cell_type": "code",
   "execution_count": 141,
   "metadata": {},
   "outputs": [
    {
     "data": {
      "text/plain": [
       "66.78061683241549"
      ]
     },
     "execution_count": 141,
     "metadata": {},
     "output_type": "execute_result"
    }
   ],
   "source": [
    "\n",
    "np.array(boot_means).mean()"
   ]
  },
  {
   "cell_type": "markdown",
   "metadata": {},
   "source": [
    "## Difference In Means\n",
    "\n",
    "- We have seen how we can use sampling distributions to build confidence intervals for a single parameter, lets now see how we can do the same thing for the difference in two parameters\n",
    "\n",
    "- Question: What is the difference in the mean heights for coffee vs non coffee drinkers\n",
    "\n",
    "    - we will do same thing as before but we will take the mean of each group and record the difference\n",
    "    \n",
    "    - we can build a confidence interval for the differences in means"
   ]
  },
  {
   "cell_type": "code",
   "execution_count": 142,
   "metadata": {},
   "outputs": [],
   "source": [
    "np.random.seed(42)\n",
    "\n",
    "coffee_red = coffee_full.sample(200)"
   ]
  },
  {
   "cell_type": "code",
   "execution_count": 143,
   "metadata": {},
   "outputs": [
    {
     "data": {
      "text/plain": [
       "1.9732964788157403"
      ]
     },
     "execution_count": 143,
     "metadata": {},
     "output_type": "execute_result"
    }
   ],
   "source": [
    "bootsample = coffee_red.sample(200, replace=True)\n",
    "mean_coff = bootsample[bootsample[\"drinks_coffee\"] == True].height.mean()\n",
    "mean_nocoff = bootsample[bootsample[\"drinks_coffee\"] == False].height.mean()\n",
    "mean_coff - mean_nocoff"
   ]
  },
  {
   "cell_type": "code",
   "execution_count": 144,
   "metadata": {},
   "outputs": [],
   "source": [
    "mean_diff = []\n",
    "for _ in range(10000):\n",
    "    bootsample = coffee_red.sample(200, replace=True)\n",
    "    mean_coff = bootsample[bootsample[\"drinks_coffee\"] == True].height.mean()\n",
    "    mean_nocoff = bootsample[bootsample[\"drinks_coffee\"] == False].height.mean()\n",
    "    mean_diff.append(mean_coff - mean_nocoff)"
   ]
  },
  {
   "cell_type": "code",
   "execution_count": 146,
   "metadata": {},
   "outputs": [
    {
     "data": {
      "image/png": "[encoded data removed]",
      "text/plain": [
       "<Figure size 432x288 with 1 Axes>"
      ]
     },
     "metadata": {
      "needs_background": "light"
     },
     "output_type": "display_data"
    }
   ],
   "source": [
    "plt.hist(mean_diff);"
   ]
  },
  {
   "cell_type": "markdown",
   "metadata": {},
   "source": [
    "1. For 10,000 iterations, bootstrap sample your sample data, compute the difference in the average heights for coffee and non-coffee drinkers. Build a 99% confidence interval using your sampling distribution. Use your interval to start answering the first quiz question below."
   ]
  },
  {
   "cell_type": "code",
   "execution_count": 148,
   "metadata": {},
   "outputs": [
    {
     "data": {
      "text/plain": [
       "(-0.2520885795331841, 2.5388333707966284)"
      ]
     },
     "execution_count": 148,
     "metadata": {},
     "output_type": "execute_result"
    }
   ],
   "source": [
    "np.percentile(mean_diff, 0.05), np.percentile(mean_diff, 99.5)"
   ]
  },
  {
   "cell_type": "markdown",
   "metadata": {},
   "source": [
    "Conclusion: Since a confidence interval is () we have evidence of the mean height for coffee drinkers is larger then that of non coffee drinkers"
   ]
  },
  {
   "cell_type": "markdown",
   "metadata": {},
   "source": [
    "2. For 10,000 iterations, bootstrap sample your sample data, compute the difference in the average heights for those older than 21 and those younger than 21. Build a 99% confidence interval using your sampling distribution. Use your interval to finish answering the first quiz question below."
   ]
  },
  {
   "cell_type": "code",
   "execution_count": 153,
   "metadata": {},
   "outputs": [],
   "source": [
    "mean_diff = []\n",
    "for _ in range(10000):\n",
    "    bootsample = coffee_red.sample(200, replace=True)\n",
    "    mean_old = bootsample.query(\"age == '>=21'\").height.mean()\n",
    "    mean_young = bootsample.query(\"age == '<21'\").height.mean()\n",
    "    mean_diff.append(mean_old - mean_young)"
   ]
  },
  {
   "cell_type": "code",
   "execution_count": 154,
   "metadata": {},
   "outputs": [
    {
     "data": {
      "text/plain": [
       "(3.0748688194243057, 5.093245067066094)"
      ]
     },
     "execution_count": 154,
     "metadata": {},
     "output_type": "execute_result"
    }
   ],
   "source": [
    "np.percentile(mean_diff, 0.05), np.percentile(mean_diff, 99.5)"
   ]
  },
  {
   "cell_type": "code",
   "execution_count": 157,
   "metadata": {},
   "outputs": [
    {
     "data": {
      "image/png": "[encoded data removed]",
      "text/plain": [
       "<Figure size 432x288 with 1 Axes>"
      ]
     },
     "metadata": {
      "needs_background": "light"
     },
     "output_type": "display_data"
    }
   ],
   "source": [
    "plt.hist(mean_diff);"
   ]
  },
  {
   "cell_type": "markdown",
   "metadata": {},
   "source": [
    "3. For 10,000 iterations bootstrap your sample data, compute the difference in the average height for coffee drinkers and the average height for non-coffee drinkers for individuals under 21 years old. Using your sampling distribution, build a 95% confidence interval. Use your interval to start answering question 2 below."
   ]
  },
  {
   "cell_type": "markdown",
   "metadata": {},
   "source": [
    "## Applications of Confidence Intervals\n",
    "\n",
    "- We saw we can build confidence intervals in means and differences in means\n",
    "\n",
    "- when is differences of means useful?\n",
    "\n",
    "    - we can compare two groups who take different drugs or two different groups where one took the drug and the other didn't\n",
    "    \n",
    "    - implement two different ways to teach a topic, and see which way improves retention\n",
    "    \n",
    "        - In general we expose two different groups to two differnt things and see which has theb better outcome, when applied to web design we compare two web pages to one another to decide which web design has largest amount of traffic \n",
    "    \n",
    "- This is A/B testing:\n",
    "\n",
    "    - A/B testing is where you take one group of people and give them one thing, then take another group and give them another thing, and then you ask each group of people to take an action of some sort and see which group of people do that action the most. \n",
    "\n",
    "    - In the world of website testing it is showing one version of a page of your website to some of your visitors and another version to others, then measuring which version makes you more money (either measuring direct sales, signups, how many people continue using your site / product etc). "
   ]
  },
  {
   "cell_type": "markdown",
   "metadata": {},
   "source": [
    "## Statistical vs Practical Differences\n",
    "\n",
    "- We have now been introduced to a few different applications to confidence intervals and using bootstrapping to create confidence interval\n",
    "\n",
    "    - using differences in means of two groups is important to see that it wasn't just randomness\n",
    "    \n",
    "- Confidence Intervals issues can arise if they are used exclusively\n",
    "\n",
    "- Practical Vs statistical significance:\n",
    "\n",
    "    - we have two ads and we can send them both to the same numbers of users\n",
    "    \n",
    "    - we can build a confidence interval that says ad b was better, we now have statistical evidence it is better\n",
    "    \n",
    "    - This evidence is statistical significance\n",
    "    \n",
    "    - but if the second ad is more expensive, which would we recommend? We might want first ad because it gets interest and it is practical significance\n",
    "    \n",
    "  "
   ]
  },
  {
   "cell_type": "markdown",
   "metadata": {},
   "source": [
    "## Traditional Confidence Intervals\n",
    "\n",
    "- we have been building ci via bootstrapping and our knowledge of sampling distributions\n",
    "\n",
    "- this is a very effective method for building ci for any parameter we might be interested in\n",
    "\n",
    "- In the other courses we have seen in traditional statistics we see formulas a lot\n",
    "\n",
    "    - these formulas have underlying assumptions and bootstrapping doesn't have these assumptions\n",
    "    \n",
    "    - bootstrapping only assumes that the sample is representative of the population\n",
    "    \n",
    "    - with large sample sizes, the formulas should provide essentially the same results\n",
    "    \n",
    "    - With bootstrapping all we have to do is Simply by understanding what you would like to estimate, and simulating the sampling distribution for the statistic that best estimates that value.\n",
    "    \n",
    "    \n",
    "- Note that they are build into python\n",
    "\n",
    "    - one sample t test, two sample t test, paired t tesxt, z test, chi squared test, f test\n",
    "    \n",
    "        - all are linked to how we construct confidence intervals\n",
    "        \n",
    "     - understanding sampling distributions and bootstrapping means that you can simulate the results of any confidence interval you want to build"
   ]
  },
  {
   "cell_type": "markdown",
   "metadata": {},
   "source": [
    "## Other Languange Associated WIth CI\n",
    "\n",
    "- Margin of Error\n",
    "\n",
    "- Confidence Interval Width\n",
    "\n",
    "- E.g. Candidate A has 34% of votes +- 3% and Candidate B has 22% of the votes +- 3%\n",
    "\n",
    "      - it says based on 95% confidence interval\n",
    "      \n",
    "      - 34% in this example is the sample statistic and the 3% is the margin of error\n",
    "       \n",
    "          - (19, 25)  and (31, 37) is confidence interval\n",
    "          \n",
    "- If we have too large margin of error, we can use law of large numbers to increase sample size and get better estimates, we can decrease our confidence interval\n",
    "\n",
    "\n",
    "- Holding all values constant:\n",
    "\n",
    "    - If we increase our sample size the confidence interval will narrow\n",
    "\n",
    "    - if we increase our confidence level it will wider our interval"
   ]
  },
  {
   "cell_type": "markdown",
   "metadata": {},
   "source": [
    "## Correct Interpreations of CI:\n",
    "\n",
    "- We are aiming our CI at parameters, a single numeric summary of population. \n",
    "\n",
    "    - can be mean, var, difference in means\n",
    "    \n",
    "- we can't say anything specific about anyone in our population\n",
    "\n",
    "- Advanced ML techniques can give us information about every individual in a population and answer questions about individuals\n",
    "\n",
    "    - they attempt to predict an outcome for each specific data point\n",
    "\n",
    "- confidence intervals aren't good at answering these kinds of problems\n",
    "\n",
    "    - CI are better with aggregate values in a population (aggregate population vaues, or population parameters)\n",
    "    \n",
    "- We would answer a question with:\n",
    "\n",
    "    - We are 95% confident that the porportion of users that click through using Page A is higher then the average using page b\n",
    "    \n",
    "    - not we are 95%confident user recieves page a are more likely to click than if they recieve page b\n",
    "    \n",
    "    - Also not: it will work for every individual or for one single.Both are overstatments. More like on average this is what will happen in this population"
   ]
  },
  {
   "cell_type": "markdown",
   "metadata": {},
   "source": [
    "## CI Vs Hypothesis Testing\n",
    "\n",
    "The topics of confidence intervals and hypothesis testing essentially do the same thing, but depending on who you talk to or what source you are reading from, it is important to understand both."
   ]
  }
 ],
 "metadata": {
  "kernelspec": {
   "display_name": "Python 3",
   "language": "python",
   "name": "python3"
  },
  "language_info": {
   "codemirror_mode": {
    "name": "ipython",
    "version": 3
   },
   "file_extension": ".py",
   "mimetype": "text/x-python",
   "name": "python",
   "nbconvert_exporter": "python",
   "pygments_lexer": "ipython3",
   "version": "3.7.6"
  }
 },
 "nbformat": 4,
 "nbformat_minor": 4
}
