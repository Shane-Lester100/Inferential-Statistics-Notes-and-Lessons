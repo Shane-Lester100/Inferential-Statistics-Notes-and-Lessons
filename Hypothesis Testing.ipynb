{
 "cells": [
  {
   "cell_type": "markdown",
   "metadata": {},
   "source": [
    "# Hypothesis Testing\n",
    "\n",
    "- Academic and industry professionals have questions about anythign\n",
    "\n",
    "    - we first generate a question as a hypothesis\n",
    "    \n",
    "    - we then need to collect data to see which hypothesis is likely to be true\n",
    "    \n",
    "- E.g. We want to see most popular ice cream flavor\n",
    "\n",
    "    - $ H_0 $ is choclate as most flavored\n",
    "        \n",
    "        - we see if data supports this\n",
    "        \n",
    "- To know our conclusion is valid/ reliable\n",
    "\n",
    "    - we can use hypothesis testing and confidence intervals to allow us to use only sample data to draw conclusions about an entire population\n",
    "    \n",
    "- E.g is a drug effective (it is more tough to set up a hypothesis test here)\n",
    "\n",
    "    - how do we quantify this, do they feel better? do they live longer? Reduce tumor size?\n",
    "    \n",
    "- we will learn about how to set up and evaluate the results of hypothesis test"
   ]
  },
  {
   "cell_type": "markdown",
   "metadata": {},
   "source": [
    "## Settting UP Hyptothesis\n",
    "\n",
    "- First:\n",
    "\n",
    "    - translate our question into two hypothesis\n",
    "    \n",
    "        - NULL: $H_0$\n",
    "        \n",
    "            - null hypothesis is true before we collect data\n",
    "            \n",
    "            - has two groups equal or the effect being zero\n",
    "            \n",
    "            - typically holds $=, >=, <= $\n",
    "        \n",
    "        - Alternative: $ H_1$\n",
    "        \n",
    "            - what we would like or try to prove is true\n",
    "            \n",
    "            - typically holds $ !=, <, > $\n",
    "        \n",
    "    - $ H_0 $ and $H_1$ should be competing and non overlapping hypotheses\n",
    "    \n",
    "- E.g. innocent until proven guilty\n",
    "\n",
    "    - we believe everyone to be innocent initially\n",
    "    \n",
    "        - null hypothesis, we believe it before collecting any data\n",
    "    \n",
    "    - competing hypothesis is guilty\n",
    "    \n",
    "    - we then collect data to see which hypothesis is supported\n",
    "    \n",
    "- E.g. Imagine we create a new web page layout and we want to see if it gives us more traffic\n",
    "\n",
    "    - $ \\mu_{new} > \\mu_{old} $\n",
    "    \n",
    "    - we hope the new page is better, but we need to prove it\n",
    "    \n",
    "        - the fact that we have to prove new page is better is the alternative hypothesis\n",
    "        \n",
    "    - $ H_0: \\mu{new} <= \\mu{old}$ \n",
    "    \n",
    "    - $ H_1: \\mu{new} > \\mu{old}$\n",
    "    \n",
    "    - Notice that they are both collectively exhastive"
   ]
  },
  {
   "cell_type": "markdown",
   "metadata": {},
   "source": [
    "So in general, if we see a equal sign somewhere in it its a null hyptothesis and if we don't its an alternative hypothesis"
   ]
  },
  {
   "cell_type": "markdown",
   "metadata": {},
   "source": [
    "Note that we can also create a hypothesis with non defined metrics\n",
    "\n",
    "\"Dyson air purifiers are the best.\" -> NULL: dyson purifiers are not the best. ALT: dyson purifiers are the best\n",
    "\n",
    "- We could test this by defining the metric of what quantifies them as the best, lets say total reviews. We then get a sample of reviews and we see if they get the highest ratings vs all their competitors. "
   ]
  },
  {
   "cell_type": "markdown",
   "metadata": {},
   "source": [
    "## Types of errors\n",
    "\n",
    "- Why does all this null and alt matter:\n",
    "\n",
    "    - consider the judicial combinations\n",
    "    \n",
    "    - Below is a truth by decision matrix\n",
    "    \n",
    "        - truth is what really happened decision is what was decided by jury\n",
    "        \n",
    "        - a and d are proper verdicts, so there is no error in our hypothesis test\n",
    "        \n",
    "        - c is that they are innocent and they were convicted as guilty. This is a Type I error and it is the worst kind of error we can make in US Judicial System \n",
    "        \n",
    "            - it is assocaited with the null hypothesis being true and the alternative is chosen\n",
    "            \n",
    "                - it is known as false positive\n",
    "                \n",
    "                - if $H_0$ is true, choose $H_1$\n",
    "                \n",
    "                - denoted by $\\alpha$\n",
    "                \n",
    "        - Type II error is that we believe the null hypothesis to be true but the alternative was true (cell b)\n",
    "        \n",
    "            - false negative\n",
    "            \n",
    "            - if $H_1$ is true, choose $H_0$\n",
    "            \n",
    "            - denoted by $\\beta$\n",
    "    "
   ]
  },
  {
   "cell_type": "markdown",
   "metadata": {},
   "source": [
    "**truth by decision matrix**\n",
    "\n",
    "\\begin{matrix}\n",
    "truth/decision & guilty & innocent \\\\\n",
    "guilty & a & b\\\\\n",
    "innocent & c & d\n",
    "\\end{matrix}\n",
    "\n"
   ]
  },
  {
   "cell_type": "markdown",
   "metadata": {},
   "source": [
    "**truth by decision matrix**\n",
    "\n",
    "\\begin{matrix}\n",
    "truth/decision & guilty & innocent \\\\\n",
    "guilty & ok & -\\\\\n",
    "innocent & + & ok\n",
    "\\end{matrix}\n",
    "\n"
   ]
  },
  {
   "cell_type": "markdown",
   "metadata": {},
   "source": [
    "- At the two extremes\n",
    "\n",
    "    - a jury could convict nobody and have lots of type II errors. A lot of $H_1$ being true, but $H_O$\n",
    "    \n",
    "        - we never want to commit a Type I error, so we commit lots of Type II errors\n",
    "    \n",
    "    - a jury could convict everyone and have lots of type I errors. A lot of $H_0$ being true, but $H_1$ anyway\n",
    "    \n",
    "        - we never want to commit a Type II error, so we commit lots of Type I errors\n",
    "    \n",
    "- Correctly setting up the null and alternative hypothesis test in the correct way is important because they define the importance of errors that we are making \n",
    "\n",
    "- Professionals frequenctly set a thershold of how many Type I errors they are willing to commit\n",
    "\n",
    "    - they first set up their null hypothesis that the Type I error is the worse of the two errors\n",
    "\n",
    "    - then they try to keep the Type II errors as low as possible while still meeting this threshold\n",
    "    \n",
    "- Typically:\n",
    "\n",
    "    - $\\alpha = 0.01$ in medical journals\n",
    "    \n",
    "    - $\\alpha = 0.05 $ in business and research\n",
    "    \n",
    "- But we need to think about what is good $\\alpha$ for our application"
   ]
  },
  {
   "cell_type": "markdown",
   "metadata": {},
   "source": [
    "Note: in a business context if we have a Type II error we would miss a good business opportunity that could generate more money. But if we commit a Type I error we would invest money in a project that loses money and wastes resources"
   ]
  },
  {
   "cell_type": "markdown",
   "metadata": {},
   "source": [
    "Note: Power of a statistical test is $1-\\beta$, this is the ability to correctly choose the alternative hypothesis. But we can look at these errors in many ways, so it isn't important to know all the ways now, just to apply these ideas to real problems and real hypothesis"
   ]
  },
  {
   "cell_type": "markdown",
   "metadata": {},
   "source": []
  }
 ],
 "metadata": {
  "kernelspec": {
   "display_name": "Python 3",
   "language": "python",
   "name": "python3"
  },
  "language_info": {
   "codemirror_mode": {
    "name": "ipython",
    "version": 3
   },
   "file_extension": ".py",
   "mimetype": "text/x-python",
   "name": "python",
   "nbconvert_exporter": "python",
   "pygments_lexer": "ipython3",
   "version": "3.7.6"
  }
 },
 "nbformat": 4,
 "nbformat_minor": 4
}
