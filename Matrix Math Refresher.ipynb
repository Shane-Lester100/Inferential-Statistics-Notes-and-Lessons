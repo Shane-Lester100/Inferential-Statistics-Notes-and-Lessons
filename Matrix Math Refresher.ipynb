{
 "cells": [
  {
   "cell_type": "markdown",
   "metadata": {},
   "source": [
    "# Matrix Math Refresher"
   ]
  },
  {
   "cell_type": "markdown",
   "metadata": {},
   "source": [
    "## Data Dimensions\n",
    "\n",
    "-  Shapes of data\n",
    "\n",
    "    - single number like a height\n",
    "    \n",
    "        - scalars (have 0 dimensions)\n",
    "    \n",
    "    - list of numbers of features, like height, weight, age\n",
    "    \n",
    "        - vectors, row vectors and column vectors\n",
    "        \n",
    "        - hold same data but conceptually they are like below:     \n",
    "            ```\n",
    "            row vector = [1,2,3]\n",
    "            1*3 matrix\n",
    "            \n",
    "            col vector  =\n",
    "            [1]\n",
    "            [2]\n",
    "            [3]\n",
    "            3*1 matrix\n",
    "            ```\n",
    "            \n",
    "         - Personal preference or it affects the math we can do\n",
    "         \n",
    "         - 1 dimension in length or called slice\n",
    "         \n",
    "         - length of 3\n",
    "                \n",
    "    - image of person with rows and columns of pixels\n",
    "    \n",
    "        - each pixel might be 3 numbers (R, G, B)\n",
    "        \n",
    "        - matrix: 2d grid of values\n",
    "        \n",
    "        - we describe it in terms of rows and columns\n",
    "        \n",
    "        ```\n",
    "        [1,2,3]\n",
    "        [4,5,6]\n",
    "        2 * 3 matrix, 2 rows 3 column\n",
    "        ```\n",
    "        - index it like $a_{12}$\n",
    "        \n",
    "     - Tensors\n",
    "     \n",
    "         - any n dimensional data value\n",
    "         \n",
    "             - scalar: 0-d tensor\n",
    "             \n",
    "             - vector: 1-d tensor\n",
    "             \n",
    "             - matrix: 2-d tensor\n",
    "             \n",
    "             - tensor: n-d tensor\n",
    "             \n",
    "        - we could store image with seperate red green blue as a 3-d tensor\n",
    "             \n",
    "    - higher dimensions are harder to visualize\n",
    "    \n",
    "     \n",
    "        \n",
    "- We can talk about these shapes in terms of data dimensions"
   ]
  },
  {
   "cell_type": "code",
   "execution_count": 3,
   "metadata": {},
   "outputs": [],
   "source": [
    "import numpy as np"
   ]
  },
  {
   "cell_type": "code",
   "execution_count": 5,
   "metadata": {},
   "outputs": [
    {
     "data": {
      "text/plain": [
       "array(5)"
      ]
     },
     "execution_count": 5,
     "metadata": {},
     "output_type": "execute_result"
    }
   ],
   "source": [
    "# Scalar\n",
    "s = np.array(5)\n",
    "s"
   ]
  },
  {
   "cell_type": "code",
   "execution_count": 6,
   "metadata": {},
   "outputs": [
    {
     "data": {
      "text/plain": [
       "8"
      ]
     },
     "execution_count": 6,
     "metadata": {},
     "output_type": "execute_result"
    }
   ],
   "source": [
    "# Even though a scalar is in an array, we can use it like a \n",
    "# normal number\n",
    "x = s + 3\n",
    "x"
   ]
  },
  {
   "cell_type": "code",
   "execution_count": 9,
   "metadata": {},
   "outputs": [
    {
     "data": {
      "text/plain": [
       "()"
      ]
     },
     "execution_count": 9,
     "metadata": {},
     "output_type": "execute_result"
    }
   ],
   "source": [
    "# we can see that it has 0 dimensions\n",
    "s.shape"
   ]
  },
  {
   "cell_type": "code",
   "execution_count": 10,
   "metadata": {},
   "outputs": [],
   "source": [
    "# Vector\n",
    "v = np.array([1,2,3])"
   ]
  },
  {
   "cell_type": "code",
   "execution_count": null,
   "metadata": {},
   "outputs": [],
   "source": []
  },
  {
   "cell_type": "code",
   "execution_count": 11,
   "metadata": {},
   "outputs": [
    {
     "data": {
      "text/plain": [
       "(3,)"
      ]
     },
     "execution_count": 11,
     "metadata": {},
     "output_type": "execute_result"
    }
   ],
   "source": [
    "# We can see it has 1 dimension and we get its row length\n",
    "v.shape"
   ]
  },
  {
   "cell_type": "code",
   "execution_count": 20,
   "metadata": {},
   "outputs": [
    {
     "data": {
      "text/plain": [
       "array([[1],\n",
       "       [2],\n",
       "       [3]])"
      ]
     },
     "execution_count": 20,
     "metadata": {},
     "output_type": "execute_result"
    }
   ],
   "source": [
    "# Matrix\n",
    "m = np.array([[1], [2], [3]])\n",
    "m"
   ]
  },
  {
   "cell_type": "code",
   "execution_count": 16,
   "metadata": {},
   "outputs": [
    {
     "data": {
      "text/plain": [
       "(3, 1)"
      ]
     },
     "execution_count": 16,
     "metadata": {},
     "output_type": "execute_result"
    }
   ],
   "source": [
    "# 3 * 1 matrix\n",
    "m.shape"
   ]
  },
  {
   "cell_type": "code",
   "execution_count": 21,
   "metadata": {},
   "outputs": [
    {
     "data": {
      "text/plain": [
       "array([[1, 2],\n",
       "       [3, 4],\n",
       "       [5, 6]])"
      ]
     },
     "execution_count": 21,
     "metadata": {},
     "output_type": "execute_result"
    }
   ],
   "source": [
    "m = np.array([[1,2], [3,4], [5,6]])\n",
    "m"
   ]
  },
  {
   "cell_type": "code",
   "execution_count": 19,
   "metadata": {},
   "outputs": [
    {
     "data": {
      "text/plain": [
       "(3, 2)"
      ]
     },
     "execution_count": 19,
     "metadata": {},
     "output_type": "execute_result"
    }
   ],
   "source": [
    "m.shape"
   ]
  },
  {
   "cell_type": "code",
   "execution_count": 22,
   "metadata": {},
   "outputs": [],
   "source": [
    "# Tensor\n",
    "t = np.array([[[[1],[2]],[[3],[4]],[[5],[6]]],[[[7],[8]],\\\n",
    "    [[9],[10]],[[11],[12]]],[[[13],[14]],[[15],[16]],[[17],[17]]]])"
   ]
  },
  {
   "cell_type": "code",
   "execution_count": 23,
   "metadata": {},
   "outputs": [
    {
     "data": {
      "text/plain": [
       "array([[[[ 1],\n",
       "         [ 2]],\n",
       "\n",
       "        [[ 3],\n",
       "         [ 4]],\n",
       "\n",
       "        [[ 5],\n",
       "         [ 6]]],\n",
       "\n",
       "\n",
       "       [[[ 7],\n",
       "         [ 8]],\n",
       "\n",
       "        [[ 9],\n",
       "         [10]],\n",
       "\n",
       "        [[11],\n",
       "         [12]]],\n",
       "\n",
       "\n",
       "       [[[13],\n",
       "         [14]],\n",
       "\n",
       "        [[15],\n",
       "         [16]],\n",
       "\n",
       "        [[17],\n",
       "         [17]]]])"
      ]
     },
     "execution_count": 23,
     "metadata": {},
     "output_type": "execute_result"
    }
   ],
   "source": [
    "t"
   ]
  },
  {
   "cell_type": "code",
   "execution_count": 24,
   "metadata": {},
   "outputs": [
    {
     "data": {
      "text/plain": [
       "(3, 3, 2, 1)"
      ]
     },
     "execution_count": 24,
     "metadata": {},
     "output_type": "execute_result"
    }
   ],
   "source": [
    "t.shape"
   ]
  },
  {
   "cell_type": "code",
   "execution_count": 25,
   "metadata": {},
   "outputs": [
    {
     "data": {
      "text/plain": [
       "array([[1],\n",
       "       [2],\n",
       "       [3],\n",
       "       [4]])"
      ]
     },
     "execution_count": 25,
     "metadata": {},
     "output_type": "execute_result"
    }
   ],
   "source": [
    "# Changing shape\n",
    "v = np.array([1,2,3,4])\n",
    "v.reshape(4,1)"
   ]
  },
  {
   "cell_type": "markdown",
   "metadata": {},
   "source": [
    "## Element - wise Matrix\n",
    "\n",
    "- we can treat each item in matrix indlivual with n dimensions\n",
    "\n",
    "- scalar plus matrix will add that scalar value to each element in the matrix\n",
    "\n",
    "    - works with all operations +, -,  *, /\n",
    "\n",
    "- we can add, multiply, divide,  with same shaped matrix"
   ]
  },
  {
   "cell_type": "code",
   "execution_count": 32,
   "metadata": {},
   "outputs": [],
   "source": [
    "x = x.reshape(2,2)"
   ]
  },
  {
   "cell_type": "code",
   "execution_count": 37,
   "metadata": {},
   "outputs": [
    {
     "data": {
      "text/plain": [
       "array([[ 5, 10],\n",
       "       [15, 20]])"
      ]
     },
     "execution_count": 37,
     "metadata": {},
     "output_type": "execute_result"
    }
   ],
   "source": [
    "x * 5"
   ]
  },
  {
   "cell_type": "code",
   "execution_count": 38,
   "metadata": {},
   "outputs": [
    {
     "data": {
      "text/plain": [
       "array([[6, 7],\n",
       "       [8, 9]])"
      ]
     },
     "execution_count": 38,
     "metadata": {},
     "output_type": "execute_result"
    }
   ],
   "source": [
    "x + 5"
   ]
  },
  {
   "cell_type": "code",
   "execution_count": 39,
   "metadata": {},
   "outputs": [
    {
     "data": {
      "text/plain": [
       "array([[2, 4],\n",
       "       [6, 8]])"
      ]
     },
     "execution_count": 39,
     "metadata": {},
     "output_type": "execute_result"
    }
   ],
   "source": [
    "x + x"
   ]
  },
  {
   "cell_type": "markdown",
   "metadata": {},
   "source": [
    "## Matrix Multipication (Matrix Product)\n",
    "\n",
    "- Doesn't usually mean $X * X$\n",
    "\n",
    "- usually means the dot product\n",
    "\n",
    "```\n",
    "[0,2,4,6]\n",
    ".\n",
    "[1,7,13,19]\n",
    "\n",
    "= 0*1 + 2 *7  + 4 *  13 + 6 * 19 \n",
    "\n",
    "```\n",
    "\n",
    "- we multiply the rows of the first matrix by the columns of the second  matrix\n",
    "\n",
    "```\n",
    "originally a 2 * 4 and a 4 * 3 matrix\n",
    "[0,2,4,6] . [1]\n",
    "            [7]\n",
    "            [13]\n",
    "            [19]\n",
    "            \n",
    "= 0 * 1 + 2 * 7 + 4 * 13 + 6 * 19 = 180\n",
    "\n",
    "[180, _, _]\n",
    "[_, _, _]\n",
    "\n",
    "```\n",
    "\n",
    "\n",
    "Notice the columns of left have to match number of rows of right\n",
    "\n",
    "NOtice that our new matrix gets its rows from the left matrix and thr columns from the right"
   ]
  },
  {
   "cell_type": "code",
   "execution_count": 40,
   "metadata": {},
   "outputs": [],
   "source": [
    "a = np.array([[1,2,3,4],[5,6,7,8]])"
   ]
  },
  {
   "cell_type": "code",
   "execution_count": 44,
   "metadata": {},
   "outputs": [],
   "source": [
    "b =  np.array([[1,2,3],[4,5,6],[7,8,9],[10,11,12]])"
   ]
  },
  {
   "cell_type": "code",
   "execution_count": 45,
   "metadata": {},
   "outputs": [
    {
     "data": {
      "text/plain": [
       "((2, 4), (4, 3))"
      ]
     },
     "execution_count": 45,
     "metadata": {},
     "output_type": "execute_result"
    }
   ],
   "source": [
    "a.shape, b.shape"
   ]
  },
  {
   "cell_type": "code",
   "execution_count": 47,
   "metadata": {},
   "outputs": [],
   "source": [
    "c = np.dot(a, b)"
   ]
  },
  {
   "cell_type": "code",
   "execution_count": 48,
   "metadata": {},
   "outputs": [
    {
     "data": {
      "text/plain": [
       "(2, 3)"
      ]
     },
     "execution_count": 48,
     "metadata": {},
     "output_type": "execute_result"
    }
   ],
   "source": [
    "c.shape"
   ]
  },
  {
   "cell_type": "markdown",
   "metadata": {},
   "source": [
    "## Matrix Transpose:\n",
    "\n",
    "- Swith the columns and rows of the matrix"
   ]
  },
  {
   "cell_type": "code",
   "execution_count": 54,
   "metadata": {},
   "outputs": [
    {
     "data": {
      "text/plain": [
       "(array([[1, 2, 3, 4],\n",
       "        [5, 6, 7, 8]]),\n",
       " (2, 4))"
      ]
     },
     "execution_count": 54,
     "metadata": {},
     "output_type": "execute_result"
    }
   ],
   "source": [
    "a, a.shape"
   ]
  },
  {
   "cell_type": "code",
   "execution_count": 55,
   "metadata": {},
   "outputs": [
    {
     "data": {
      "text/plain": [
       "(array([[1, 5],\n",
       "        [2, 6],\n",
       "        [3, 7],\n",
       "        [4, 8]]),\n",
       " (4, 2))"
      ]
     },
     "execution_count": 55,
     "metadata": {},
     "output_type": "execute_result"
    }
   ],
   "source": [
    "np.transpose(a), np.transpose(a).shape"
   ]
  },
  {
   "cell_type": "markdown",
   "metadata": {},
   "source": [
    "## Wikipedia page notes:\n",
    "\n",
    "### What is linear algebra used for\n",
    "\n",
    "- used in all areas of math\n",
    "\n",
    "    - geometry for defining basic objects, functional analysis, science and engineerign for modelling phenomena\n",
    "    \n",
    "    - approximations in non linear systems by taking the derivative at a point of a multivariate function\n",
    "    \n",
    "### History\n",
    "\n",
    "- Gaussian elimination came first in ancient china\n",
    "\n",
    "    - it is also known as row reduction. It solves a system of linear equations\n",
    "    \n",
    "    - It can be understood as a sequence of operations performed on the corresponding matrix of coefficient\n",
    "    \n",
    "    - we can use this to find a\n",
    "    \n",
    "        - rank\n",
    "        \n",
    "        - determinant\n",
    "        \n",
    "        - inverse of an invertible square matrix\n",
    "        \n",
    "    - We can use a sequence of elementary row operations to modify tghe matrix until the lower left hand corer of the martix is filled with 0s\n",
    "    \n",
    "- row operations\n",
    "\n",
    "    - swapping two rows\n",
    "    \n",
    "    - multiplying a row by a nonzero number\n",
    "    \n",
    "    - adding a multiple of one row to another\n",
    "    \n",
    "- Using gaussian elimination, a matrix can be transformed into an upper trianglular matrix, and one that is in row echelon form"
   ]
  },
  {
   "cell_type": "markdown",
   "metadata": {},
   "source": [
    "![](alg_gaussian_elimination.png)"
   ]
  },
  {
   "cell_type": "markdown",
   "metadata": {},
   "source": [
    "We end up getting to reduced row echelon form in last step of algorithm, and we solved the system of equations"
   ]
  },
  {
   "attachments": {},
   "cell_type": "markdown",
   "metadata": {},
   "source": [
    "\n",
    "\n",
    "### What is linear algebra:\n",
    "\n",
    "- Linear Algebra purpose: Linear algebra is the branch of mathematics concerning linear equations such as $(x_1,...,x_n) \\rightarrow a_1x_1 + ... + a_nx_n$ iand their representation in vector spaces through matrices\n",
    "\n",
    "- vector space: A vector space (also called a linear space) is a collection of objects called vectors, which may be added together and multiplied (\"scaled\") by numbers, called scalars. \n",
    "\n",
    "    -  A vector space is a set V on which two operations + and · are defined, called vector addition and scalar multiplication\n",
    "    \n",
    "    - [vector operation definitions in a vector space](http://www.math.niu.edu/~beachy/courses/240/06spring/vectorspace.html)\n",
    "    \n",
    "  \n",
    "- Vector space made up of linear subspaces: In mathematics, and more specifically in linear algebra, a linear subspace, also known as a vector subspace[1][2] is a vector space that is a subset of some larger vector space\n",
    "\n",
    "    - We define a vector space on a field: In mathematics, a field is a set on which addition, subtraction, multiplication, and division are defined and behave as the corresponding operations on rational and real numbers do. A field is thus a fundamental algebraic structure which is widely used in algebra, number theory, and many other areas of mathematics.\n",
    "  \n",
    "\n",
    "- vectors: a quantity having direction as well as magnitude, especially as determining the position of one point in space relative to another.\n",
    "\n",
    "- linear combinations: A linear combination of two or more vectors is the vector obtained by adding two or more vectors (with different directions) which are multiplied by scalar values $ v = a_1 \\overrightarrow{v_1} + ... + a_n \\overrightarrow{v_n}$\n",
    "\n",
    "    -  linear combinations usually used in the context of a vector space over a field, with some generalizations given at the end of the article.\n",
    "\n",
    "- spans: In linear algebra, the linear span (also called the linear hull or just span) of a set S of vectors in a vector space is the smallest linear subspace that contains the set\n",
    "\n",
    "    - so we have a set of vectors => ${(-1,0,0),(0,1,0),(0,0,1)}$ is in vector space $R^3$\n",
    "    \n",
    "- Basis: In mathematics, a set B of elements (vectors) in a vector space V is called a basis, if every element of V may be written in a unique way as a (finite) linear combination of elements of B. The coefficients of this linear combination are referred to as components or coordinates on B of the vector. The elements of a basis are called basis vectors.\n",
    "\n",
    "    - subset B of V is a basis if:\n",
    "    \n",
    "        - the linear independence property:\n",
    "            - for every finite subset {b1, ..., bn} of B and every a1, ..., an in F, if a1b1 + ⋅⋅⋅ + anbn = 0, then a1 = ⋅⋅⋅ = an = 0;\n",
    "        - the spanning property:\n",
    "            - for every (vector) v in V, it is possible to choose v1, ..., vn in F and b1, ..., bn in B such that v = v1b1 + ⋅⋅⋅ + vnbn.\n",
    "\n",
    "- linead dependence and independence"
   ]
  },
  {
   "cell_type": "markdown",
   "metadata": {},
   "source": [
    "$\\overrightarrow{a}$"
   ]
  },
  {
   "cell_type": "code",
   "execution_count": null,
   "metadata": {},
   "outputs": [],
   "source": []
  }
 ],
 "metadata": {
  "kernelspec": {
   "display_name": "Python 3",
   "language": "python",
   "name": "python3"
  },
  "language_info": {
   "codemirror_mode": {
    "name": "ipython",
    "version": 3
   },
   "file_extension": ".py",
   "mimetype": "text/x-python",
   "name": "python",
   "nbconvert_exporter": "python",
   "pygments_lexer": "ipython3",
   "version": "3.7.6"
  }
 },
 "nbformat": 4,
 "nbformat_minor": 4
}
