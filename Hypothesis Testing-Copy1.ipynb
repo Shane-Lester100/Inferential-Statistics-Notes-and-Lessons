{
 "cells": [
  {
   "cell_type": "markdown",
   "metadata": {},
   "source": [
    "# Hypothesis Testing\n",
    "\n",
    "- Academic and industry professionals have questions about anythign\n",
    "\n",
    "    - we first generate a question as a hypothesis\n",
    "    \n",
    "    - we then need to collect data to see which hypothesis is likely to be true\n",
    "    \n",
    "- E.g. We want to see most popular ice cream flavor\n",
    "\n",
    "    - $ H_0 $ is choclate as most flavored\n",
    "        \n",
    "        - we see if data supports this\n",
    "        \n",
    "- To know our conclusion is valid/ reliable\n",
    "\n",
    "    - we can use hypothesis testing and confidence intervals to allow us to use only sample data to draw conclusions about an entire population\n",
    "    \n",
    "- E.g is a drug effective (it is more tough to set up a hypothesis test here)\n",
    "\n",
    "    - how do we quantify this, do they feel better? do they live longer? Reduce tumor size?\n",
    "    \n",
    "- we will learn about how to set up and evaluate the results of hypothesis test"
   ]
  },
  {
   "cell_type": "markdown",
   "metadata": {},
   "source": [
    "## Settting UP Hyptothesis\n",
    "\n",
    "- First:\n",
    "\n",
    "    - translate our question into two hypothesis\n",
    "    \n",
    "        - NULL: $H_0$\n",
    "        \n",
    "            - null hypothesis is true before we collect data\n",
    "            \n",
    "            - has two groups equal or the effect being zero\n",
    "            \n",
    "            - typically holds $=, >=, <= $\n",
    "        \n",
    "        - Alternative: $ H_1$\n",
    "        \n",
    "            - what we would like or try to prove is true\n",
    "            \n",
    "            - typically holds $ !=, <, > $\n",
    "        \n",
    "    - $ H_0 $ and $H_1$ should be competing and non overlapping hypotheses\n",
    "    \n",
    "- E.g. innocent until proven guilty\n",
    "\n",
    "    - we believe everyone to be innocent initially\n",
    "    \n",
    "        - null hypothesis, we believe it before collecting any data\n",
    "    \n",
    "    - competing hypothesis is guilty\n",
    "    \n",
    "    - we then collect data to see which hypothesis is supported\n",
    "    \n",
    "- E.g. Imagine we create a new web page layout and we want to see if it gives us more traffic\n",
    "\n",
    "    - $ \\mu_{new} > \\mu_{old} $\n",
    "    \n",
    "    - we hope the new page is better, but we need to prove it\n",
    "    \n",
    "        - the fact that we have to prove new page is better is the alternative hypothesis\n",
    "        \n",
    "    - $ H_0: \\mu{new} <= \\mu{old}$ \n",
    "    \n",
    "    - $ H_1: \\mu{new} > \\mu{old}$\n",
    "    \n",
    "    - Notice that they are both collectively exhastive"
   ]
  },
  {
   "cell_type": "markdown",
   "metadata": {},
   "source": [
    "So in general, if we see a equal sign somewhere in it its a null hyptothesis and if we don't its an alternative hypothesis"
   ]
  },
  {
   "cell_type": "markdown",
   "metadata": {},
   "source": [
    "Note that we can also create a hypothesis with non defined metrics\n",
    "\n",
    "\"Dyson air purifiers are the best.\" -> NULL: dyson purifiers are not the best. ALT: dyson purifiers are the best\n",
    "\n",
    "- We could test this by defining the metric of what quantifies them as the best, lets say total reviews. We then get a sample of reviews and we see if they get the highest ratings vs all their competitors. "
   ]
  },
  {
   "cell_type": "markdown",
   "metadata": {},
   "source": [
    "## Types of errors\n",
    "\n",
    "- Why does all this null and alt matter:\n",
    "\n",
    "    - consider the judicial combinations\n",
    "    \n",
    "    - Below is a truth by decision matrix\n",
    "    \n",
    "        - truth is what really happened decision is what was decided by jury\n",
    "        \n",
    "        - a and d are proper verdicts, so there is no error in our hypothesis test\n",
    "        \n",
    "        - c is that they are innocent and they were convicted as guilty. This is a Type I error and it is the worst kind of error we can make in US Judicial System \n",
    "        \n",
    "            - it is assocaited with the null hypothesis being true and the alternative is chosen\n",
    "            \n",
    "                - it is known as false positive\n",
    "                \n",
    "                - if $H_0$ is true, choose $H_1$\n",
    "                \n",
    "                - denoted by $\\alpha$\n",
    "                \n",
    "        - Type II error is that we believe the null hypothesis to be true but the alternative was true (cell b)\n",
    "        \n",
    "            - false negative\n",
    "            \n",
    "            - if $H_1$ is true, choose $H_0$\n",
    "            \n",
    "            - denoted by $\\beta$\n",
    "    "
   ]
  },
  {
   "cell_type": "markdown",
   "metadata": {},
   "source": [
    "**truth by decision matrix**\n",
    "\n",
    "\\begin{matrix}\n",
    "truth/decision & guilty & innocent \\\\\n",
    "guilty & a & b\\\\\n",
    "innocent & c & d\n",
    "\\end{matrix}\n",
    "\n"
   ]
  },
  {
   "cell_type": "markdown",
   "metadata": {},
   "source": [
    "**truth by decision matrix**\n",
    "\n",
    "\\begin{matrix}\n",
    "truth/decision & guilty & innocent \\\\\n",
    "guilty & ok & -\\\\\n",
    "innocent & + & ok\n",
    "\\end{matrix}\n",
    "\n"
   ]
  },
  {
   "cell_type": "markdown",
   "metadata": {},
   "source": [
    "- At the two extremes\n",
    "\n",
    "    - a jury could convict nobody and have lots of type II errors. A lot of $H_1$ being true, but $H_O$\n",
    "    \n",
    "        - we never want to commit a Type I error, so we commit lots of Type II errors\n",
    "    \n",
    "    - a jury could convict everyone and have lots of type I errors. A lot of $H_0$ being true, but $H_1$ anyway\n",
    "    \n",
    "        - we never want to commit a Type II error, so we commit lots of Type I errors\n",
    "    \n",
    "- Correctly setting up the null and alternative hypothesis test in the correct way is important because they define the importance of errors that we are making \n",
    "\n",
    "- Professionals frequenctly set a thershold of how many Type I errors they are willing to commit\n",
    "\n",
    "    - they first set up their null hypothesis that the Type I error is the worse of the two errors\n",
    "\n",
    "    - then they try to keep the Type II errors as low as possible while still meeting this threshold\n",
    "    \n",
    "- Typically:\n",
    "\n",
    "    - $\\alpha = 0.01$ in medical journals\n",
    "    \n",
    "    - $\\alpha = 0.05 $ in business and research\n",
    "    \n",
    "- But we need to think about what is good $\\alpha$ for our application"
   ]
  },
  {
   "cell_type": "markdown",
   "metadata": {},
   "source": [
    "Note: in a business context if we have a Type II error we would miss a good business opportunity that could generate more money. But if we commit a Type I error we would invest money in a project that loses money and wastes resources"
   ]
  },
  {
   "cell_type": "markdown",
   "metadata": {},
   "source": [
    "Note: Power of a statistical test is $1-\\beta$, this is the ability to correctly choose the alternative hypothesis. But we can look at these errors in many ways, so it isn't important to know all the ways now, just to apply these ideas to real problems and real hypothesis"
   ]
  },
  {
   "cell_type": "markdown",
   "metadata": {},
   "source": [
    "## Common Types Of Hypothesis Tests\n",
    "\n",
    "1. Testing a population mean (One sample t-test).\n",
    "\n",
    "    - E.g Can we expect a return of above 6% on an investment\n",
    "    \n",
    "        - $H_0: \\mu <= 6$\n",
    "\n",
    "        - $H_1: \\mu > 6$\n",
    "    \n",
    "2. Testing the difference in means (Two sample t-test)\n",
    "\n",
    "    - $H_0: \\mu - 6 <= 0$\n",
    "\n",
    "    - $H_1: \\mu - 6 > 0$\n",
    "\n",
    "3. Testing the difference before and after some treatment on the same individual (Paired t-test)\n",
    "\n",
    "4. Testing a population proportion (One sample z-test) \n",
    "    \n",
    "    - $H_0: \\pi_{new} = \\pi_{old}$\n",
    "\n",
    "    - $H_1: \\pi_{new} \\neq \\pi_{old}$\n",
    "\n",
    "5. Testing the difference between population proportions (Two sample z-test)\n",
    "\n",
    "    - E.g. Which of two marketing campaigns will drive more traffic to our website \n",
    "    \n",
    "        - $H_0: \\pi_{new} - \\pi_{old} <= 0$\n",
    "        \n",
    "        - $H_1: \\pi_{new} - \\pi_{old} >0$\n"
   ]
  },
  {
   "cell_type": "markdown",
   "metadata": {},
   "source": [
    "\n",
    "- But instead of memorizing all the different kinds of tests we can perform, it is better to:\n",
    "\n",
    "    - find a statistic(s) that best estimate the parameter(s) I want to estimate\n",
    "    \n",
    "    - bootstrap to simulate the sampling distribution\n",
    "    \n",
    "    - Use the sampling distribution to assist in choosing the appropriate hypothesis"
   ]
  },
  {
   "cell_type": "markdown",
   "metadata": {},
   "source": [
    "## How do we choose between hypothesis\n",
    "\n",
    "- Once we finish setting up, we need to use data to choose which hypothesis is actually true\n",
    "\n",
    "    - we can use CI approach, where we simulate the distribution of our sample statistic and we can see if our hypothesis is consistent what we see in our sampling distribution\n",
    "    \n",
    "    - Simulating what we believe to be possible under the NULL and then seeing if our data is consistent with that\n",
    "    \n",
    "        - this is what professionals tend to do in hypothesis testing"
   ]
  },
  {
   "cell_type": "code",
   "execution_count": 2,
   "metadata": {},
   "outputs": [],
   "source": [
    "import numpy as np\n",
    "import pandas as pd\n",
    "import matplotlib.pyplot as plt\n",
    "\n",
    "\n",
    "%matplotlib inline\n",
    "\n",
    "np.random.seed(42)\n",
    "\n",
    "df = pd.read_csv(\"data/coffee_dataset.csv\")"
   ]
  },
  {
   "cell_type": "code",
   "execution_count": 3,
   "metadata": {},
   "outputs": [
    {
     "data": {
      "text/html": [
       "<div>\n",
       "<style scoped>\n",
       "    .dataframe tbody tr th:only-of-type {\n",
       "        vertical-align: middle;\n",
       "    }\n",
       "\n",
       "    .dataframe tbody tr th {\n",
       "        vertical-align: top;\n",
       "    }\n",
       "\n",
       "    .dataframe thead th {\n",
       "        text-align: right;\n",
       "    }\n",
       "</style>\n",
       "<table border=\"1\" class=\"dataframe\">\n",
       "  <thead>\n",
       "    <tr style=\"text-align: right;\">\n",
       "      <th></th>\n",
       "      <th>user_id</th>\n",
       "      <th>age</th>\n",
       "      <th>drinks_coffee</th>\n",
       "      <th>height</th>\n",
       "    </tr>\n",
       "  </thead>\n",
       "  <tbody>\n",
       "    <tr>\n",
       "      <th>0</th>\n",
       "      <td>4509</td>\n",
       "      <td>&lt;21</td>\n",
       "      <td>False</td>\n",
       "      <td>64.538179</td>\n",
       "    </tr>\n",
       "    <tr>\n",
       "      <th>1</th>\n",
       "      <td>1864</td>\n",
       "      <td>&gt;=21</td>\n",
       "      <td>True</td>\n",
       "      <td>65.824249</td>\n",
       "    </tr>\n",
       "    <tr>\n",
       "      <th>2</th>\n",
       "      <td>2060</td>\n",
       "      <td>&lt;21</td>\n",
       "      <td>False</td>\n",
       "      <td>71.319854</td>\n",
       "    </tr>\n",
       "    <tr>\n",
       "      <th>3</th>\n",
       "      <td>7875</td>\n",
       "      <td>&gt;=21</td>\n",
       "      <td>True</td>\n",
       "      <td>68.569404</td>\n",
       "    </tr>\n",
       "    <tr>\n",
       "      <th>4</th>\n",
       "      <td>6254</td>\n",
       "      <td>&lt;21</td>\n",
       "      <td>True</td>\n",
       "      <td>64.020226</td>\n",
       "    </tr>\n",
       "  </tbody>\n",
       "</table>\n",
       "</div>"
      ],
      "text/plain": [
       "   user_id   age  drinks_coffee     height\n",
       "0     4509   <21          False  64.538179\n",
       "1     1864  >=21           True  65.824249\n",
       "2     2060   <21          False  71.319854\n",
       "3     7875  >=21           True  68.569404\n",
       "4     6254   <21           True  64.020226"
      ]
     },
     "execution_count": 3,
     "metadata": {},
     "output_type": "execute_result"
    }
   ],
   "source": [
    "df.head()"
   ]
  },
  {
   "cell_type": "markdown",
   "metadata": {},
   "source": [
    "Question: Average height of all population is greater then 70 inches:\n",
    "\n",
    "$$ H_0: \\mu <= 70 $$\n",
    "\n",
    "$$ H_1: \\mu > 70 $$"
   ]
  },
  {
   "cell_type": "markdown",
   "metadata": {},
   "source": [
    "Approach 1: Based on the approach with confidence intervals is to bootstrap sample data and compute the sample mean distribution and the corresponding CI to determine what are the reasonable values for the population mean at some level of confidence"
   ]
  },
  {
   "cell_type": "code",
   "execution_count": 4,
   "metadata": {},
   "outputs": [],
   "source": [
    "sample = df.sample(150)"
   ]
  },
  {
   "cell_type": "code",
   "execution_count": 5,
   "metadata": {},
   "outputs": [],
   "source": [
    "bootsample = sample.sample(150, replace=True)"
   ]
  },
  {
   "cell_type": "code",
   "execution_count": 6,
   "metadata": {},
   "outputs": [],
   "source": [
    "boot_mean = []\n",
    "for _ in range(10000):\n",
    "    bootsample = sample.sample(150, replace=True)\n",
    "    boot_mean.append(bootsample.height.mean())"
   ]
  },
  {
   "cell_type": "code",
   "execution_count": 7,
   "metadata": {},
   "outputs": [],
   "source": [
    "low, high = np.percentile(boot_mean, 2.5), np.percentile(boot_mean, 97.5)"
   ]
  },
  {
   "cell_type": "code",
   "execution_count": 8,
   "metadata": {},
   "outputs": [
    {
     "data": {
      "text/plain": [
       "(67.10258508046543, 68.15617490636114)"
      ]
     },
     "execution_count": 8,
     "metadata": {},
     "output_type": "execute_result"
    }
   ],
   "source": [
    "low, high"
   ]
  },
  {
   "cell_type": "code",
   "execution_count": 9,
   "metadata": {},
   "outputs": [
    {
     "data": {
      "image/png": "[encoded data removed]",
      "text/plain": [
       "<Figure size 432x288 with 1 Axes>"
      ]
     },
     "metadata": {
      "needs_background": "light"
     },
     "output_type": "display_data"
    }
   ],
   "source": [
    "plt.hist(boot_mean)\n",
    "plt.axvline(x=low, color='r', linewidth=2);\n",
    "plt.axvline(x=high, color='r', linewidth=2);"
   ]
  },
  {
   "cell_type": "markdown",
   "metadata": {},
   "source": [
    "Conclusion: we can see that with our current sample that the null hypothesis is more likely to be true and that even at 100% confidence the sample mean isn't at 70. SO we can be fairly certain we can reject the alternative hypothesis"
   ]
  },
  {
   "cell_type": "markdown",
   "metadata": {},
   "source": [
    "## Approach 2: Simulating From Null Hyptothesis\n",
    "\n",
    "- Rather then setting up a null and alternative hypothesis\n",
    "\n",
    "$$ H_0: \\mu <= 70 $$\n",
    "\n",
    "$$ H_1: \\mu > 70 $$\n",
    "\n",
    "- We assume that the NULL is true, and we would know what the sampling distribution would look like from the closest value under the null before the alternative\n",
    "\n",
    "    - so this value of 70\n",
    "    \n",
    "- We then can use the standard deviation of the sampling distribution to determine what the sampling distributon would look like if it came from the NULL hypothesis \n"
   ]
  },
  {
   "cell_type": "markdown",
   "metadata": {},
   "source": [
    "We can simulate from the null hypothesis"
   ]
  },
  {
   "cell_type": "code",
   "execution_count": 10,
   "metadata": {},
   "outputs": [],
   "source": [
    "np.random.seed(42)\n",
    "df = pd.read_csv(\"data/coffee_dataset.csv\")"
   ]
  },
  {
   "cell_type": "code",
   "execution_count": 11,
   "metadata": {},
   "outputs": [],
   "source": [
    "sample_df = df.sample(150)"
   ]
  },
  {
   "cell_type": "code",
   "execution_count": 12,
   "metadata": {},
   "outputs": [],
   "source": [
    "means = []\n",
    "for _ in range(10000):\n",
    "    bootsample = sample_df.sample(150, replace=True)\n",
    "    means.append(bootsample.height.mean())"
   ]
  },
  {
   "cell_type": "code",
   "execution_count": 13,
   "metadata": {},
   "outputs": [
    {
     "data": {
      "text/plain": [
       "0.26580395144180324"
      ]
     },
     "execution_count": 13,
     "metadata": {},
     "output_type": "execute_result"
    }
   ],
   "source": [
    "np.std(means)"
   ]
  },
  {
   "cell_type": "markdown",
   "metadata": {},
   "source": [
    "\n",
    "- We know the standard deviation of our sampling distribution is 0.2658, and we know that if it came from the NULL Hypothesis value of 70 how it would look\n",
    "\n",
    "- With a sample size of 150 we would know that it would follow a normal distribution by the CLT\n",
    "\n",
    "- We can then simulate draws from the normal distribution using the hypthosized mean of 70 and our sample standard deviation"
   ]
  },
  {
   "cell_type": "code",
   "execution_count": 14,
   "metadata": {},
   "outputs": [],
   "source": [
    "null_vals = np.random.normal(70, np.std(means), 10000)"
   ]
  },
  {
   "cell_type": "code",
   "execution_count": 15,
   "metadata": {},
   "outputs": [
    {
     "data": {
      "image/png": "[encoded data removed]",
      "text/plain": [
       "<Figure size 432x288 with 1 Axes>"
      ]
     },
     "metadata": {
      "needs_background": "light"
     },
     "output_type": "display_data"
    }
   ],
   "source": [
    "plt.hist(null_vals);"
   ]
  },
  {
   "cell_type": "markdown",
   "metadata": {},
   "source": [
    "Now we can ask the question: where does the sample mean fall in this distribution"
   ]
  },
  {
   "cell_type": "code",
   "execution_count": 16,
   "metadata": {},
   "outputs": [
    {
     "data": {
      "text/plain": [
       "67.63297688228059"
      ]
     },
     "execution_count": 16,
     "metadata": {},
     "output_type": "execute_result"
    }
   ],
   "source": [
    "sample_df.height.mean()"
   ]
  },
  {
   "cell_type": "markdown",
   "metadata": {},
   "source": [
    "We can see that it falls far away from the center of the null hypothesis. But we see our sample mean is so far from our normal distribution that it didn't likely come from the normal null hypothesis distribution\n",
    "\n",
    "So we accept our null hypothesis and reject our alternative hypothesis"
   ]
  },
  {
   "cell_type": "code",
   "execution_count": 17,
   "metadata": {},
   "outputs": [],
   "source": [
    "np.random.seed(42)\n",
    "\n",
    "full_data = pd.read_csv('data/coffee_dataset.csv')\n",
    "sample_data = full_data.sample(200)"
   ]
  },
  {
   "cell_type": "markdown",
   "metadata": {},
   "source": [
    "1. If you were interested in studying whether the average height for coffee drinkers is the same as for non-coffee drinkers, what would the null and alternative hypotheses be?"
   ]
  },
  {
   "cell_type": "markdown",
   "metadata": {},
   "source": [
    "$$ H_0: \\mu_{c} = \\mu_{\\neg c}$$\n",
    "\n",
    "$$ H_1: \\mu_{c} \\neq \\mu_{\\neg c}$$\n",
    "\n",
    "where c is the property that they do drink coffee, and the parameter is the population height of the groups"
   ]
  },
  {
   "cell_type": "markdown",
   "metadata": {},
   "source": [
    "2. If you were interested in studying whether the average height for coffee drinkers is less than non-coffee drinkers, what would the null and alternative hypotheses be?"
   ]
  },
  {
   "cell_type": "markdown",
   "metadata": {},
   "source": [
    "$$ H_0: \\mu_{c} >= \\mu_{\\neg c}$$\n",
    "\n",
    "$$ H_1: \\mu_{c} < \\mu_{\\neg c}$$\n",
    "\n",
    "where c is the property that they do drink coffee, and the parameter is the population height of the groups"
   ]
  },
  {
   "cell_type": "markdown",
   "metadata": {},
   "source": [
    "`3.` For 10,000 iterations: bootstrap the sample data, calculate the mean height for coffee drinkers and non-coffee drinkers, and calculate the difference in means for each sample.  You will want to have three arrays at the end of the iterations - one for each mean and one for the difference in means."
   ]
  },
  {
   "cell_type": "code",
   "execution_count": 18,
   "metadata": {},
   "outputs": [],
   "source": [
    "c_arr, n_c_arr, means = [], [], []\n",
    "for _ in range(10000):\n",
    "    bootstrap = sample_data.sample(200, replace=True)\n",
    "    avg_c = bootstrap[bootstrap[\"drinks_coffee\"] == True].height.mean()\n",
    "    avg_n_c = bootstrap[bootstrap[\"drinks_coffee\"] == False].height.mean()\n",
    "    diff = avg_c - avg_n_c\n",
    "    c_arr.append(avg_c)\n",
    "    n_c_arr.append(avg_n_c)\n",
    "    means.append(diff)"
   ]
  },
  {
   "cell_type": "markdown",
   "metadata": {},
   "source": [
    "The standard deviation of the sampling distribution for the mean of those that do not drink coffee."
   ]
  },
  {
   "cell_type": "code",
   "execution_count": 19,
   "metadata": {},
   "outputs": [
    {
     "data": {
      "text/plain": [
       "0.4051263127747525"
      ]
     },
     "execution_count": 19,
     "metadata": {},
     "output_type": "execute_result"
    }
   ],
   "source": [
    "np.std(n_c_arr)"
   ]
  },
  {
   "cell_type": "markdown",
   "metadata": {},
   "source": [
    "The standard deviation of the sampling distribution for the mean of those that drink coffee."
   ]
  },
  {
   "cell_type": "code",
   "execution_count": 20,
   "metadata": {},
   "outputs": [
    {
     "data": {
      "text/plain": [
       "0.24073763373472962"
      ]
     },
     "execution_count": 20,
     "metadata": {},
     "output_type": "execute_result"
    }
   ],
   "source": [
    "np.std(c_arr)"
   ]
  },
  {
   "cell_type": "markdown",
   "metadata": {},
   "source": [
    "The standard deviation of the sampling distribution for the difference in means of those that drink coffee and those that do not."
   ]
  },
  {
   "cell_type": "code",
   "execution_count": 21,
   "metadata": {},
   "outputs": [
    {
     "data": {
      "text/plain": [
       "0.4698091074387144"
      ]
     },
     "execution_count": 21,
     "metadata": {},
     "output_type": "execute_result"
    }
   ],
   "source": [
    "np.std(means)"
   ]
  },
  {
   "cell_type": "code",
   "execution_count": 22,
   "metadata": {},
   "outputs": [
    {
     "data": {
      "text/plain": [
       "0.4712557029879462"
      ]
     },
     "execution_count": 22,
     "metadata": {},
     "output_type": "execute_result"
    }
   ],
   "source": [
    "import math\n",
    "# Notice:\n",
    "math.sqrt(np.var(c_arr) + np.var(n_c_arr))"
   ]
  },
  {
   "cell_type": "markdown",
   "metadata": {},
   "source": [
    "This is because:\n",
    "$S_{1 - 2} = \\sqrt{S_1^2 + S_2^2} $\n",
    "\n",
    "But what this really means is that the difference in means standard deviation has a relationship with each other member in that it is larger then both"
   ]
  },
  {
   "cell_type": "markdown",
   "metadata": {},
   "source": [
    "What is the shape of each sampling distribution and why?\n",
    "\n",
    "Normal by the CLT"
   ]
  },
  {
   "cell_type": "code",
   "execution_count": 23,
   "metadata": {},
   "outputs": [
    {
     "data": {
      "image/png": "[encoded data removed]",
      "text/plain": [
       "<Figure size 432x288 with 1 Axes>"
      ]
     },
     "metadata": {
      "needs_background": "light"
     },
     "output_type": "display_data"
    }
   ],
   "source": [
    "plt.hist(n_c_arr, alpha=0.5);\n",
    "plt.hist(c_arr, alpha=0.5);"
   ]
  },
  {
   "cell_type": "code",
   "execution_count": null,
   "metadata": {},
   "outputs": [],
   "source": []
  },
  {
   "cell_type": "code",
   "execution_count": 24,
   "metadata": {},
   "outputs": [
    {
     "data": {
      "image/png": "[encoded data removed]",
      "text/plain": [
       "<Figure size 432x288 with 1 Axes>"
      ]
     },
     "metadata": {
      "needs_background": "light"
     },
     "output_type": "display_data"
    }
   ],
   "source": [
    "plt.hist(means);"
   ]
  },
  {
   "cell_type": "markdown",
   "metadata": {},
   "source": [
    "4. Now, use your observed sampling distribution for the difference in means and the docs to simulate what you would expect the sampling distribution to be if the null hypothesis is true. You can do this be recentering your distribution at zero. Also, calculate the observed sample mean difference in sample_data."
   ]
  },
  {
   "cell_type": "markdown",
   "metadata": {},
   "source": [
    "Hypothesis limit: $\\mu_1 - \\mu_2 = 0$, so this is where we simulate"
   ]
  },
  {
   "cell_type": "code",
   "execution_count": 25,
   "metadata": {},
   "outputs": [],
   "source": [
    "null_mean = 0\n",
    "null_values = np.random.normal(loc=null_mean,  scale=np.std(means), size=10000)"
   ]
  },
  {
   "cell_type": "code",
   "execution_count": 26,
   "metadata": {},
   "outputs": [
    {
     "data": {
      "image/png": "[encoded data removed]",
      "text/plain": [
       "<Figure size 432x288 with 1 Axes>"
      ]
     },
     "metadata": {
      "needs_background": "light"
     },
     "output_type": "display_data"
    }
   ],
   "source": [
    "plt.hist(null_values);"
   ]
  },
  {
   "cell_type": "code",
   "execution_count": 27,
   "metadata": {},
   "outputs": [
    {
     "data": {
      "text/plain": [
       "1.3362713474811618"
      ]
     },
     "execution_count": 27,
     "metadata": {},
     "output_type": "execute_result"
    }
   ],
   "source": [
    "np.array(means).mean()"
   ]
  },
  {
   "cell_type": "markdown",
   "metadata": {},
   "source": [
    "Conclusion: we can see that it is at the very right side of our distribution, so it is unlikely that the heights are equal. Therefore we should reject the nulll hypothesis and state that it is likely there is a difference in coffee drinkers heights."
   ]
  },
  {
   "cell_type": "markdown",
   "metadata": {},
   "source": [
    "Note: we would expect the standard deviation from the null to be the same as what we observed from the data, this is reasonable because they are both the sampling distribution from the difference in means"
   ]
  },
  {
   "cell_type": "markdown",
   "metadata": {},
   "source": [
    "## P values\n",
    "\n",
    "- 1st explanation:\n",
    "\n",
    "    - Def: if $H_0$ is true, the probability of obtaining the observed statistic or one or more extreme in favor of the alternative hypothesis\n",
    "\n",
    "- 2nd explaination:\n",
    "\n",
    "    - First we make the assumption that our null hypothesis is true and then we use the sample standard deviation to create a normal distribution\n",
    "\n",
    "        - we then use the conditional probability of `P(our_data | null hypothesis is true)`\n",
    "\n",
    "    - Second we need to find out what we need to compute\n",
    "\n",
    "        - we shade in the direction of our alternative hypothesis\n",
    "\n",
    "    \n",
    "- 3rd explanation:\n",
    "    \n",
    "    - The definition of a p-value is the probability of observing your statistic (or one more extreme in favor of the alternative) if the null hypothesis is true.\n",
    "\n",
    "    - The more extreme in favor of the alternative portion of this statement determines the shading associated with your p-value."
   ]
  },
  {
   "cell_type": "markdown",
   "metadata": {},
   "source": [
    "Recall: a low p value indicates strong evidence against the null hypothesis, so we can reject the null hypothesis"
   ]
  },
  {
   "cell_type": "markdown",
   "metadata": {},
   "source": [
    "![](norm_dist_1.png)"
   ]
  },
  {
   "cell_type": "markdown",
   "metadata": {},
   "source": [
    "![](norm_dist_2.png)"
   ]
  },
  {
   "cell_type": "markdown",
   "metadata": {},
   "source": [
    "![](norm_dist_3.png)"
   ]
  },
  {
   "cell_type": "markdown",
   "metadata": {},
   "source": [
    "## Calcuating the P Value\n",
    "\n",
    "1. Simulate the value of your statistic that are possible from the null\n",
    "\n",
    "2. Calculate the value of the statistic we actually obtained from the data\n",
    "\n",
    "3. Compare your statistic to the values from the null\n",
    "\n",
    "4. calculate the poportion of values that are considered extreme based on your alternative"
   ]
  },
  {
   "cell_type": "code",
   "execution_count": 28,
   "metadata": {},
   "outputs": [
    {
     "data": {
      "image/png": "[encoded data removed]",
      "text/plain": [
       "<Figure size 432x288 with 1 Axes>"
      ]
     },
     "metadata": {
      "needs_background": "light"
     },
     "output_type": "display_data"
    }
   ],
   "source": [
    "plt.hist(null_vals);"
   ]
  },
  {
   "cell_type": "code",
   "execution_count": 29,
   "metadata": {},
   "outputs": [],
   "source": [
    "sample_mean = sample_df.height.mean()"
   ]
  },
  {
   "cell_type": "code",
   "execution_count": 30,
   "metadata": {},
   "outputs": [
    {
     "data": {
      "text/plain": [
       "67.63297688228059"
      ]
     },
     "execution_count": 30,
     "metadata": {},
     "output_type": "execute_result"
    }
   ],
   "source": [
    "sample_mean"
   ]
  },
  {
   "cell_type": "markdown",
   "metadata": {},
   "source": [
    "We saw prev how we could simulate draws from the null hypothesis, and that if our statistic was in the bulk of the distribution then it suggests that the statistic was from that null\n",
    "\n",
    "But if our statistic was out of the bulk of the distribution, then the null was proabably not what generated the statisitc.\n",
    "\n",
    "Then we saw that we can calculate p values from shaded region starting from the observed statistic through the tail of the distribution where the shaded region is dependend on our alternative"
   ]
  },
  {
   "cell_type": "markdown",
   "metadata": {},
   "source": [
    "Say we have:\n",
    "\n",
    "$$H_0: \\mu <= 70 $$\n",
    "$$H_1: \\mu > 70 $$"
   ]
  },
  {
   "cell_type": "markdown",
   "metadata": {},
   "source": [
    "Caculate the p value of the porportion of the draws that are larger then our sample mean"
   ]
  },
  {
   "cell_type": "code",
   "execution_count": 31,
   "metadata": {},
   "outputs": [
    {
     "data": {
      "text/plain": [
       "1.0"
      ]
     },
     "execution_count": 31,
     "metadata": {},
     "output_type": "execute_result"
    }
   ],
   "source": [
    "(null_vals > sample_mean).mean()"
   ]
  },
  {
   "cell_type": "markdown",
   "metadata": {},
   "source": [
    "Conclusion: we can see that when we generated a normal distribution with the same standard devation as our sample with our null hypothis of 70 and highlighted the top of our distribution, we see that 100% of our values are bigger then the sample mean, so we cannot reject our null hypothesis\n",
    "\n",
    "In below chart, we can see that we would highlight 100% of the histogram because our sample was smaller then 100% of our values"
   ]
  },
  {
   "cell_type": "code",
   "execution_count": 32,
   "metadata": {},
   "outputs": [
    {
     "data": {
      "image/png": "[encoded data removed]",
      "text/plain": [
       "<Figure size 432x288 with 1 Axes>"
      ]
     },
     "metadata": {
      "needs_background": "light"
     },
     "output_type": "display_data"
    }
   ],
   "source": [
    "plt.hist(null_vals);"
   ]
  },
  {
   "cell_type": "markdown",
   "metadata": {},
   "source": [
    "Say instead we had this as our hypothesis\n",
    "\n",
    "\n",
    "$$H_0: \\mu >= 70 $$\n",
    "$$H_1: \\mu < 70 $$"
   ]
  },
  {
   "cell_type": "code",
   "execution_count": 33,
   "metadata": {},
   "outputs": [
    {
     "data": {
      "text/plain": [
       "0.0"
      ]
     },
     "execution_count": 33,
     "metadata": {},
     "output_type": "execute_result"
    }
   ],
   "source": [
    "(null_vals < sample_mean).mean()"
   ]
  },
  {
   "cell_type": "code",
   "execution_count": 34,
   "metadata": {},
   "outputs": [
    {
     "data": {
      "image/png": "[encoded data removed]",
      "text/plain": [
       "<Figure size 432x288 with 1 Axes>"
      ]
     },
     "metadata": {
      "needs_background": "light"
     },
     "output_type": "display_data"
    }
   ],
   "source": [
    "plt.hist(null_vals);"
   ]
  },
  {
   "cell_type": "markdown",
   "metadata": {},
   "source": [
    "Here we would highlight from our sample mean 67 left on the histogram, which is 0%. So our hypothesis that the population mean is less then 70 is most likely true and we would reject the null hypothesis"
   ]
  },
  {
   "cell_type": "markdown",
   "metadata": {},
   "source": [
    "$$H_0: \\mu = 70 $$\n",
    "$$H_1: \\mu \\neq 70 $$"
   ]
  },
  {
   "cell_type": "code",
   "execution_count": 35,
   "metadata": {},
   "outputs": [
    {
     "data": {
      "text/plain": [
       "0.0"
      ]
     },
     "execution_count": 35,
     "metadata": {},
     "output_type": "execute_result"
    }
   ],
   "source": [
    "null_mean = 70\n",
    "(\n",
    " (null_vals < sample_mean).mean() + \n",
    " (null_vals > null_mean + (null_mean - sample_mean)).mean() \n",
    ")"
   ]
  },
  {
   "cell_type": "code",
   "execution_count": 36,
   "metadata": {},
   "outputs": [
    {
     "name": "stdout",
     "output_type": "stream",
     "text": [
      "72.36702311771941\n"
     ]
    },
    {
     "data": {
      "image/png": "[encoded data removed]",
      "text/plain": [
       "<Figure size 432x288 with 1 Axes>"
      ]
     },
     "metadata": {
      "needs_background": "light"
     },
     "output_type": "display_data"
    }
   ],
   "source": [
    "low = sample_mean\n",
    "high = null_mean + (null_mean-sample_mean)\n",
    "print(high)\n",
    "plt.hist(null_vals)\n",
    "plt.axvline(x=low, color='r', linewidth=2)\n",
    "plt.axvline(x=high, color='r', linewidth=2);"
   ]
  },
  {
   "cell_type": "markdown",
   "metadata": {},
   "source": [
    "Here we can go to the left and right side of each value and be confident that the null hypothesis distribution did not generate our sample statistic"
   ]
  },
  {
   "cell_type": "markdown",
   "metadata": {},
   "source": [
    "## Connecting Errors and P Values\n",
    "\n",
    "- If we have a small p value we would be more likely to make a decision to reject the null hypothesis\n",
    "\n",
    "- How small does the P value have to be?\n",
    "\n",
    "    - P value <= $\\alpha$, which is how much type 1 error we are willing to have.\n",
    "    \n",
    "    - 0.05 errors where we choose alternative correctly\n",
    "    \n",
    "- So if the p value is less then the type I error rate, we reject the null hypothesis, else we fail to reject NULL"
   ]
  },
  {
   "cell_type": "markdown",
   "metadata": {},
   "source": [
    "## Conclusions in hypothesis testing\n",
    "\n",
    "- cringeworthy conclusions\n",
    "\n",
    "    - we accept the null hypothesis to be true\n",
    "    \n",
    "    - we accept the alternative hypothesis to be true\n",
    "    \n",
    "    \n",
    "- It is cringeworthy to act like we are choosing between hypothesis, instead we accept the null hypothesis until it is rejected\n",
    "\n",
    "    - so we would say, we failed to reject the null hypothesis or we have evidence to reject the null hypothesis\n",
    "    \n",
    "- We do this because we want the null to be seen as being much more likely to be chosen"
   ]
  },
  {
   "cell_type": "markdown",
   "metadata": {},
   "source": [
    "## Calculating Errors"
   ]
  },
  {
   "cell_type": "code",
   "execution_count": 37,
   "metadata": {},
   "outputs": [],
   "source": [
    "jud_data = pd.read_csv('data/judicial_dataset_predictions.csv')\n",
    "par_data = pd.read_csv('data/parachute_dataset.csv')"
   ]
  },
  {
   "cell_type": "markdown",
   "metadata": {},
   "source": [
    "1. Above, you can see the actual and predicted columns for each of the datasets. Using the jud_data, find the proportion of errors for the dataset, and furthermore, the percentage of errors of each type. Use the results to answer the questions in quiz 1 below."
   ]
  },
  {
   "cell_type": "code",
   "execution_count": 38,
   "metadata": {},
   "outputs": [
    {
     "data": {
      "text/html": [
       "<div>\n",
       "<style scoped>\n",
       "    .dataframe tbody tr th:only-of-type {\n",
       "        vertical-align: middle;\n",
       "    }\n",
       "\n",
       "    .dataframe tbody tr th {\n",
       "        vertical-align: top;\n",
       "    }\n",
       "\n",
       "    .dataframe thead th {\n",
       "        text-align: right;\n",
       "    }\n",
       "</style>\n",
       "<table border=\"1\" class=\"dataframe\">\n",
       "  <thead>\n",
       "    <tr style=\"text-align: right;\">\n",
       "      <th></th>\n",
       "      <th>defendant_id</th>\n",
       "      <th>actual</th>\n",
       "      <th>predicted</th>\n",
       "    </tr>\n",
       "  </thead>\n",
       "  <tbody>\n",
       "    <tr>\n",
       "      <th>0</th>\n",
       "      <td>22574</td>\n",
       "      <td>innocent</td>\n",
       "      <td>innocent</td>\n",
       "    </tr>\n",
       "    <tr>\n",
       "      <th>1</th>\n",
       "      <td>35637</td>\n",
       "      <td>innocent</td>\n",
       "      <td>innocent</td>\n",
       "    </tr>\n",
       "    <tr>\n",
       "      <th>2</th>\n",
       "      <td>39919</td>\n",
       "      <td>innocent</td>\n",
       "      <td>innocent</td>\n",
       "    </tr>\n",
       "    <tr>\n",
       "      <th>3</th>\n",
       "      <td>29610</td>\n",
       "      <td>guilty</td>\n",
       "      <td>guilty</td>\n",
       "    </tr>\n",
       "    <tr>\n",
       "      <th>4</th>\n",
       "      <td>38273</td>\n",
       "      <td>innocent</td>\n",
       "      <td>innocent</td>\n",
       "    </tr>\n",
       "  </tbody>\n",
       "</table>\n",
       "</div>"
      ],
      "text/plain": [
       "   defendant_id    actual predicted\n",
       "0         22574  innocent  innocent\n",
       "1         35637  innocent  innocent\n",
       "2         39919  innocent  innocent\n",
       "3         29610    guilty    guilty\n",
       "4         38273  innocent  innocent"
      ]
     },
     "execution_count": 38,
     "metadata": {},
     "output_type": "execute_result"
    }
   ],
   "source": [
    "jud_data.head()"
   ]
  },
  {
   "cell_type": "code",
   "execution_count": 39,
   "metadata": {},
   "outputs": [],
   "source": [
    "# Errors\n",
    "errors_df = jud_data[jud_data[\"actual\"] != jud_data[\"predicted\"]]"
   ]
  },
  {
   "cell_type": "code",
   "execution_count": 40,
   "metadata": {},
   "outputs": [],
   "source": [
    "total_error_rate = errors_df.shape[0] / jud_data.shape[0]"
   ]
  },
  {
   "cell_type": "code",
   "execution_count": 41,
   "metadata": {},
   "outputs": [
    {
     "data": {
      "text/plain": [
       "0.001510366607167376"
      ]
     },
     "execution_count": 41,
     "metadata": {},
     "output_type": "execute_result"
    }
   ],
   "source": [
    "type_1 = jud_data.query(\"actual == 'innocent' and predicted=='guilty'\").shape[0] / jud_data.shape[0]\n",
    "type_1"
   ]
  },
  {
   "cell_type": "code",
   "execution_count": 42,
   "metadata": {},
   "outputs": [
    {
     "data": {
      "text/plain": [
       "0.04064259233832212"
      ]
     },
     "execution_count": 42,
     "metadata": {},
     "output_type": "execute_result"
    }
   ],
   "source": [
    "type_2 = jud_data.query(\"actual == 'guilty' and predicted=='innocent'\").shape[0] / jud_data.shape[0]\n",
    "type_2"
   ]
  },
  {
   "cell_type": "code",
   "execution_count": 43,
   "metadata": {},
   "outputs": [
    {
     "data": {
      "text/plain": [
       "0.45159961554304545"
      ]
     },
     "execution_count": 43,
     "metadata": {},
     "output_type": "execute_result"
    }
   ],
   "source": [
    "# If everyone was predicted to be guilty\n",
    "jud_data.query(\"actual=='innocent'\").shape[0] / jud_data.shape[0] "
   ]
  },
  {
   "cell_type": "markdown",
   "metadata": {},
   "source": [
    "## Impact of sampling and large sample size\n",
    "\n",
    "- Factors to consider when hypothesis testing\n",
    "\n",
    "    - is my sample representitive of the population\n",
    "    \n",
    "        - if your sample isn't representative, your conclusions are likely to be incorrect\n",
    "        \n",
    "    - impact of our sample size\n",
    "    \n",
    "        - with large sample sizes, everything is statistically significant\n",
    "        \n",
    "        - say we have 1 million people poll they like beverage 1 better then beverage 2, but you find out it is only more popular by 0.0002% it is not practically important\n",
    "        \n",
    "- If we have very large sample size, hypothesis tests may not be useful\n",
    "\n",
    "    - with ML we can individualize an approach"
   ]
  },
  {
   "cell_type": "markdown",
   "metadata": {},
   "source": [
    "## What if we test more then once\n",
    "\n",
    "- if we run 20 identical hypothesis tests, we can expect 1 type 1 error\n",
    "\n",
    "- if one researcher comes up with significant results, we can't know if its a type 1 error\n",
    "\n",
    "- Bonferoni correction\n",
    "\n",
    "    - if we perform m tests, we should divide $\\alpha$ by m to maintain error rate"
   ]
  },
  {
   "cell_type": "markdown",
   "metadata": {},
   "source": [
    "## CI VS Hypothesis Tests\n",
    "\n",
    "- Using a two sided $\\neq$ is the same in terms of conclusion of confidence interval as long as:\n",
    "\n",
    "    - $1- CI = \\alpha$\n",
    "    \n",
    "- So if we build a 95% CI, it is the same as a hypothesis test two sided with 0.05 Type I error rate\n",
    "\n",
    "    - 1 - 0.95 = 0.05\n",
    "    \n",
    "- CI, effects sizing, and ML tequnicuqes are being used as hypothesis testing is often misinterpreted"
   ]
  },
  {
   "cell_type": "code",
   "execution_count": 47,
   "metadata": {},
   "outputs": [],
   "source": [
    "import pandas as pd\n",
    "import numpy as np\n",
    "import matplotlib.pyplot as plt\n",
    "\n",
    "%matplotlib inline\n",
    "np.random.seed(42)\n",
    "\n",
    "full_data = pd.read_csv('data/coffee_dataset.csv')"
   ]
  },
  {
   "cell_type": "markdown",
   "metadata": {},
   "source": [
    "`1.` In this case imagine, we are interested in testing if the mean height of all individuals in the `full_data` is equal to 67.60 inches.  First, use **quiz 1** below to identify the null and alternative hypotheses for these cases. "
   ]
  },
  {
   "cell_type": "markdown",
   "metadata": {},
   "source": [
    "$$H_0: \\mu = 67.60 $$\n",
    "$$ H_1: \\mu \\neq 67.60 $$"
   ]
  },
  {
   "cell_type": "markdown",
   "metadata": {},
   "source": [
    "2. Find:\n",
    "\n",
    "\n",
    "- What is the population mean height?\n",
    "\n",
    "- What is the standard deviation of the population heights? Create a sample set of data using the code below.\n",
    "\n",
    "- What is the sample mean height? Simulate the sampling distribution for the mean of five values to see the shape and plot a histogram.\n",
    "- What is the standard deviation of the sampling distribution of the mean of five draws? Use quiz 2 below to assure your answers are correct."
   ]
  },
  {
   "cell_type": "code",
   "execution_count": 48,
   "metadata": {},
   "outputs": [
    {
     "data": {
      "text/plain": [
       "67.59748697307934"
      ]
     },
     "execution_count": 48,
     "metadata": {},
     "output_type": "execute_result"
    }
   ],
   "source": [
    "full_data.height.mean()"
   ]
  },
  {
   "cell_type": "code",
   "execution_count": 49,
   "metadata": {},
   "outputs": [
    {
     "data": {
      "text/plain": [
       "user_id          1833.646002\n",
       "drinks_coffee       0.491957\n",
       "height              3.119433\n",
       "dtype: float64"
      ]
     },
     "execution_count": 49,
     "metadata": {},
     "output_type": "execute_result"
    }
   ],
   "source": [
    "full_data.std()"
   ]
  },
  {
   "cell_type": "code",
   "execution_count": 50,
   "metadata": {},
   "outputs": [],
   "source": [
    "sample1 = full_data.sample(5)"
   ]
  },
  {
   "cell_type": "code",
   "execution_count": 52,
   "metadata": {},
   "outputs": [
    {
     "data": {
      "text/plain": [
       "67.88234252049084"
      ]
     },
     "execution_count": 52,
     "metadata": {},
     "output_type": "execute_result"
    }
   ],
   "source": [
    "sample1.height.mean()"
   ]
  },
  {
   "cell_type": "code",
   "execution_count": null,
   "metadata": {},
   "outputs": [],
   "source": []
  }
 ],
 "metadata": {
  "kernelspec": {
   "display_name": "Python 3",
   "language": "python",
   "name": "python3"
  },
  "language_info": {
   "codemirror_mode": {
    "name": "ipython",
    "version": 3
   },
   "file_extension": ".py",
   "mimetype": "text/x-python",
   "name": "python",
   "nbconvert_exporter": "python",
   "pygments_lexer": "ipython3",
   "version": "3.7.6"
  }
 },
 "nbformat": 4,
 "nbformat_minor": 4
}
